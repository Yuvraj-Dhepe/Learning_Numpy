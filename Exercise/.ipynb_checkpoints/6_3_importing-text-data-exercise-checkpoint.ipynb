{
 "cells": [
  {
   "cell_type": "markdown",
   "metadata": {},
   "source": [
    "## Importing Data with NumPy"
   ]
  },
  {
   "cell_type": "markdown",
   "metadata": {},
   "source": [
    "### 1. Run the following cells:"
   ]
  },
  {
   "cell_type": "code",
   "execution_count": 3,
   "metadata": {},
   "outputs": [],
   "source": [
    "import numpy as np"
   ]
  },
  {
   "cell_type": "code",
   "execution_count": 4,
   "metadata": {},
   "outputs": [],
   "source": [
    "np.set_printoptions(suppress = True, linewidth = 150)"
   ]
  },
  {
   "cell_type": "markdown",
   "metadata": {},
   "source": [
    "### 2. Use loadtxt() to import the same file and display its contents. \n",
    "   <b> Hint:</b> By default np.loadtxt() asusmes all the values will be numeric, so it crashes when it encounters text data. We can bypass this by specifying the datatype to NumPy strings when importing. "
   ]
  },
  {
   "cell_type": "code",
   "execution_count": 5,
   "metadata": {},
   "outputs": [
    {
     "name": "stdout",
     "output_type": "stream",
     "text": [
      "(1043, 6)\n"
     ]
    },
    {
     "data": {
      "text/plain": [
       "array([[ 2000.,    40.,   365.,  3121.,  4241., 13621.],\n",
       "       [ 2000.,    40.,   365.,  3061.,  4171., 15041.],\n",
       "       [ 1000.,    40.,   365.,  2160.,  3280., 15340.],\n",
       "       ...,\n",
       "       [ 2000.,    40.,   365.,  4201.,  5001., 16600.],\n",
       "       [ 1000.,    40.,   365.,  2080.,  3320., 15600.],\n",
       "       [ 2000.,    40.,   365.,  4601.,  4601., 16600.]])"
      ]
     },
     "execution_count": 5,
     "metadata": {},
     "output_type": "execute_result"
    }
   ],
   "source": [
    "lending_co_data_numeric_1 = np.loadtxt(\"..\\Data\\Lending-Company-Numeric-Data.csv\",delimiter = ',')\n",
    "type(lending_co_data_numeric_1)\n",
    "print(lending_co_data_numeric_1.shape)\n",
    "lending_co_data_numeric_1"
   ]
  },
  {
   "cell_type": "markdown",
   "metadata": {},
   "source": [
    "### 3. Use np.genfromtxt() to import the \"Lending-Company-Total-Price.csv\" file and display its contents.\n",
    "    You can open the file in a text editor like Notepad++ to check its delimiter. "
   ]
  },
  {
   "cell_type": "code",
   "execution_count": 10,
   "metadata": {},
   "outputs": [
    {
     "data": {
      "text/plain": [
       "array([['LoanID', 'StringID', 'Product', ..., 'Location', 'Region', 'TotalPrice'],\n",
       "       ['1', 'id_1', 'Product B', ..., 'Location 2', 'Region 2', '16600'],\n",
       "       ['2', 'id_2', 'Product B', ..., 'Location 3', '', '16600'],\n",
       "       ...,\n",
       "       ['413', 'id_413', 'Product B', ..., 'Location 135', 'Region 1', '16600'],\n",
       "       ['414', 'id_414', 'Product C', ..., 'Location 200', 'Region 6', '15600'],\n",
       "       ['415', 'id_415', 'Product A', ..., 'Location 8', 'Region 2', '22250']], dtype='<U14')"
      ]
     },
     "execution_count": 10,
     "metadata": {},
     "output_type": "execute_result"
    }
   ],
   "source": [
    "lending_co_TP = np.genfromtxt('..\\Data\\Lending-Company-Total-Price.csv',delimiter = ',',dtype = str)\n",
    "lending_co_TP"
   ]
  },
  {
   "cell_type": "markdown",
   "metadata": {},
   "source": [
    "### 4. Using the arguments of the np.genfromtxt() function, do the following data cleaning:\n",
    "    A) Set the data type to strings. \n",
    "    B) Skip the first row of the dataset. \n",
    "    C) Skip the last 15 rows of the dataset. \n",
    "    D) Only pull data from the 2nd, 3rd and 5th columns. \n",
    "   (Note: You can do all of these at the same time.)"
   ]
  },
  {
   "cell_type": "code",
   "execution_count": 73,
   "metadata": {},
   "outputs": [
    {
     "data": {
      "text/plain": [
       "array([['id_1', 'Product B', 'Location 2'],\n",
       "       ['id_2', 'Product B', 'Location 3'],\n",
       "       ['id_3', 'Product C', 'Location 5'],\n",
       "       ...,\n",
       "       ['id_398', 'Product A', 'Location 29'],\n",
       "       ['id_399', 'Product B', 'Location 73'],\n",
       "       ['id_400', 'Product B', 'Location 53']], dtype='<U12')"
      ]
     },
     "execution_count": 73,
     "metadata": {},
     "output_type": "execute_result"
    }
   ],
   "source": [
    "lending_co_TP = np.genfromtxt('..\\Data\\Lending-Company-Total-Price.csv',\n",
    "                              delimiter = ',',\n",
    "                              dtype = str,\n",
    "                              skip_header = 1,\n",
    "                              skip_footer = 15,\n",
    "                              usecols = (1,2,4))\n",
    "lending_co_TP"
   ]
  },
  {
   "cell_type": "markdown",
   "metadata": {},
   "source": [
    "### 5. Refer to the documentation of the np.genfromtxt() function and examine the following arguments and what they do:\n",
    "    A) comments\n",
    "    B) converters \n",
    "    C) missing_values\n",
    "    D) excludelist\n",
    "    E) deletechars\n",
    "    D) replace_space \n",
    "    E) autostrip\n",
    "   (You're <b>not</b> expected to provide any coding for this part. The cell below is provided for your convenience in case you want to try using the arguments as you go through them.)"
   ]
  },
  {
   "cell_type": "code",
   "execution_count": 78,
   "metadata": {},
   "outputs": [
    {
     "data": {
      "text/plain": [
       "array([['LoanID', 'StringID', ''],\n",
       "       ['1', 'id_1', ''],\n",
       "       ['2', 'id_2', ''],\n",
       "       ...,\n",
       "       ['1041', 'id_1041', ''],\n",
       "       ['1042', 'id_1042', ''],\n",
       "       ['1043', 'id_1043', '']], dtype='<U8')"
      ]
     },
     "execution_count": 78,
     "metadata": {},
     "output_type": "execute_result"
    }
   ],
   "source": [
    "lending_co_LT = np.genfromtxt('../Data/lending-co-LT.csv',\n",
    "                              delimiter = ',',\n",
    "                              comments = \"P\",\n",
    "                              #usecols = (1,2,4),\n",
    "                              converters = None,\n",
    "                              missing_values ='',\n",
    "                              filling_values = 'Hello',\n",
    "                              excludelist = ['LoanID'],\n",
    "                              deletechars = 'Loan',\n",
    "                              replace_space = 'y',\n",
    "                             autostrip  = True,\n",
    "                             dtype = 'str')\n",
    "lending_co_LT"
   ]
  },
  {
   "cell_type": "markdown",
   "metadata": {},
   "source": [
    "### 6. Now that you understand what these arguments do, add them to the code you wrote a few cells ago. \n",
    "    A) comments\n",
    "    B) converters \n",
    "    C) missing_values\n",
    "    D) excludelist\n",
    "    E) deletechars\n",
    "    D) replace_space \n",
    "    E) autostrip\n",
    "   <b>Note</b>: If you don't know what values to set, just refer to the documentation and set the defaults. "
   ]
  },
  {
   "cell_type": "code",
   "execution_count": 49,
   "metadata": {},
   "outputs": [
    {
     "data": {
      "text/plain": [
       "array([['LoanID', 'StringID', ''],\n",
       "       ['1', 'id_1', ''],\n",
       "       ['2', 'id_2', ''],\n",
       "       ...,\n",
       "       ['1041', 'id_1041', ''],\n",
       "       ['1042', 'id_1042', ''],\n",
       "       ['1043', 'id_1043', '']], dtype='<U8')"
      ]
     },
     "execution_count": 49,
     "metadata": {},
     "output_type": "execute_result"
    }
   ],
   "source": [
    "lending_co_LT = np.genfromtxt('../Data/lending-co-LT.csv',\n",
    "                              delimiter = ',',\n",
    "                              comments = \"P\",\n",
    "                              dtype = str,\n",
    "                              converters = None,\n",
    "                              missing_values ='',\n",
    "                              filling_values = 'Hello',\n",
    "                              excludelist = ['LoanID'],\n",
    "                              deletechars = 'Loan',\n",
    "                              replace_space = 'y',\n",
    "                             autostrip  = True)\n",
    "lending_co_LT"
   ]
  },
  {
   "cell_type": "markdown",
   "metadata": {},
   "source": [
    "### 7. The first and last columns were the only ones with numeric data, so let's import only them."
   ]
  },
  {
   "cell_type": "code",
   "execution_count": 79,
   "metadata": {},
   "outputs": [
    {
     "data": {
      "text/plain": [
       "array([[   nan,    nan],\n",
       "       [    1., 16600.],\n",
       "       [    2., 16600.],\n",
       "       ...,\n",
       "       [ 1041., 16600.],\n",
       "       [ 1042., 15600.],\n",
       "       [ 1043., 16600.]])"
      ]
     },
     "execution_count": 79,
     "metadata": {},
     "output_type": "execute_result"
    }
   ],
   "source": [
    "lending_co_LT = np.genfromtxt('../Data/lending-co-LT.csv',\n",
    "                              usecols = (0,-1),delimiter = ',')\n",
    "lending_co_LT"
   ]
  },
  {
   "cell_type": "markdown",
   "metadata": {},
   "source": [
    "### 8. Alright, now that the data we're using only contains numbers, let's see how the inputs change if we change the datatype argument to:\n",
    "    A) The default (not specify it)\n",
    "    B) 32-bit integers (np.int32)\n",
    "    C) 32-bit floats (np.float32)\n",
    "    D) 64-bit complex numbers (np.complex64)\n",
    "    E) Unicode (np.unicode)\n",
    "    F) Objects (np.object)\n",
    "    G) None"
   ]
  },
  {
   "cell_type": "code",
   "execution_count": 59,
   "metadata": {},
   "outputs": [
    {
     "data": {
      "text/plain": [
       "array([[   nan,    nan],\n",
       "       [    1., 16600.],\n",
       "       [    2., 16600.],\n",
       "       ...,\n",
       "       [ 1041., 16600.],\n",
       "       [ 1042., 15600.],\n",
       "       [ 1043., 16600.]])"
      ]
     },
     "execution_count": 59,
     "metadata": {},
     "output_type": "execute_result"
    }
   ],
   "source": [
    "lending_co_LT = np.genfromtxt('../Data/lending-co-LT.csv',\n",
    "                              usecols = (0,6),\n",
    "                              delimiter = ',')\n",
    "lending_co_LT"
   ]
  },
  {
   "cell_type": "code",
   "execution_count": 60,
   "metadata": {},
   "outputs": [
    {
     "data": {
      "text/plain": [
       "array([[   -1,    -1],\n",
       "       [    1, 16600],\n",
       "       [    2, 16600],\n",
       "       ...,\n",
       "       [ 1041, 16600],\n",
       "       [ 1042, 15600],\n",
       "       [ 1043, 16600]])"
      ]
     },
     "execution_count": 60,
     "metadata": {},
     "output_type": "execute_result"
    }
   ],
   "source": [
    "lending_co_LT = np.genfromtxt('../Data/lending-co-LT.csv',\n",
    "                              usecols = (0,6),\n",
    "                              delimiter = ',',\n",
    "                              dtype = np.int32)\n",
    "lending_co_LT"
   ]
  },
  {
   "cell_type": "code",
   "execution_count": 61,
   "metadata": {},
   "outputs": [
    {
     "data": {
      "text/plain": [
       "array([[   nan,    nan],\n",
       "       [    1., 16600.],\n",
       "       [    2., 16600.],\n",
       "       ...,\n",
       "       [ 1041., 16600.],\n",
       "       [ 1042., 15600.],\n",
       "       [ 1043., 16600.]], dtype=float32)"
      ]
     },
     "execution_count": 61,
     "metadata": {},
     "output_type": "execute_result"
    }
   ],
   "source": [
    "lending_co_LT = np.genfromtxt('../Data/lending-co-LT.csv',\n",
    "                              usecols = (0,6),\n",
    "                              delimiter = ',',\n",
    "                              dtype = np.float32)\n",
    "lending_co_LT"
   ]
  },
  {
   "cell_type": "code",
   "execution_count": 62,
   "metadata": {},
   "outputs": [
    {
     "data": {
      "text/plain": [
       "array([[   nan+0.j,    nan+0.j],\n",
       "       [    1.+0.j, 16600.+0.j],\n",
       "       [    2.+0.j, 16600.+0.j],\n",
       "       ...,\n",
       "       [ 1041.+0.j, 16600.+0.j],\n",
       "       [ 1042.+0.j, 15600.+0.j],\n",
       "       [ 1043.+0.j, 16600.+0.j]], dtype=complex64)"
      ]
     },
     "execution_count": 62,
     "metadata": {},
     "output_type": "execute_result"
    }
   ],
   "source": [
    "lending_co_LT = np.genfromtxt('../Data/lending-co-LT.csv',\n",
    "                              usecols = (0,6),\n",
    "                              delimiter = ',',\n",
    "                              dtype = np.complex64)\n",
    "lending_co_LT"
   ]
  },
  {
   "cell_type": "code",
   "execution_count": 64,
   "metadata": {},
   "outputs": [
    {
     "data": {
      "text/plain": [
       "array([['LoanID', 'TotalPrice'],\n",
       "       ['1', '16600.0'],\n",
       "       ['2', '16600.0'],\n",
       "       ...,\n",
       "       ['1041', '16600.0'],\n",
       "       ['1042', '15600.0'],\n",
       "       ['1043', '16600.0']], dtype='<U10')"
      ]
     },
     "execution_count": 64,
     "metadata": {},
     "output_type": "execute_result"
    }
   ],
   "source": [
    "lending_co_LT = np.genfromtxt('../Data/lending-co-LT.csv',\n",
    "                              usecols = (0,6),\n",
    "                              delimiter = ',',\n",
    "                              dtype = np.compat.unicode)\n",
    "lending_co_LT"
   ]
  },
  {
   "cell_type": "code",
   "execution_count": 66,
   "metadata": {},
   "outputs": [
    {
     "data": {
      "text/plain": [
       "array([[b'LoanID', b'TotalPrice'],\n",
       "       [b'1', b'16600.0'],\n",
       "       [b'2', b'16600.0'],\n",
       "       ...,\n",
       "       [b'1041', b'16600.0'],\n",
       "       [b'1042', b'15600.0'],\n",
       "       [b'1043', b'16600.0']], dtype=object)"
      ]
     },
     "execution_count": 66,
     "metadata": {},
     "output_type": "execute_result"
    }
   ],
   "source": [
    "lending_co_LT = np.genfromtxt('../Data/lending-co-LT.csv',\n",
    "                              usecols = (0,6),\n",
    "                              delimiter = ',',\n",
    "                              dtype = object)\n",
    "lending_co_LT"
   ]
  },
  {
   "cell_type": "code",
   "execution_count": 67,
   "metadata": {},
   "outputs": [
    {
     "name": "stderr",
     "output_type": "stream",
     "text": [
      "<ipython-input-67-0e470904de90>:1: VisibleDeprecationWarning: Reading unicode strings without specifying the encoding argument is deprecated. Set the encoding, use None for the system default.\n",
      "  lending_co_LT = np.genfromtxt('../Data/lending-co-LT.csv',\n"
     ]
    },
    {
     "data": {
      "text/plain": [
       "array([[b'LoanID', b'TotalPrice'],\n",
       "       [b'1', b'16600.0'],\n",
       "       [b'2', b'16600.0'],\n",
       "       ...,\n",
       "       [b'1041', b'16600.0'],\n",
       "       [b'1042', b'15600.0'],\n",
       "       [b'1043', b'16600.0']], dtype='|S10')"
      ]
     },
     "execution_count": 67,
     "metadata": {},
     "output_type": "execute_result"
    }
   ],
   "source": [
    "lending_co_LT = np.genfromtxt('../Data/lending-co-LT.csv',\n",
    "                              usecols = (0,6),\n",
    "                              delimiter = ',',\n",
    "                              dtype = None)\n",
    "lending_co_LT"
   ]
  },
  {
   "cell_type": "markdown",
   "metadata": {},
   "source": [
    "### 9. Setting the datatype to <i>None </i> means the function automatically chooses the datatype for each column of the text file, so let's see how this works for all the columns."
   ]
  },
  {
   "cell_type": "code",
   "execution_count": 81,
   "metadata": {},
   "outputs": [
    {
     "name": "stderr",
     "output_type": "stream",
     "text": [
      "<ipython-input-81-71738d4f8b24>:1: VisibleDeprecationWarning: Reading unicode strings without specifying the encoding argument is deprecated. Set the encoding, use None for the system default.\n",
      "  lending_co_LT = np.genfromtxt('../Data/lending-co-LT.csv',\n"
     ]
    },
    {
     "data": {
      "text/plain": [
       "array([[b'LoanID', b'StringID', b'Product', ..., b'Location', b'Region', b'TotalPrice'],\n",
       "       [b'1', b'id_1', b'Product B', ..., b'Location 2', b'Region 2', b'16600.0'],\n",
       "       [b'2', b'id_2', b'Product B', ..., b'Location 3', b'', b'16600.0'],\n",
       "       ...,\n",
       "       [b'1041', b'id_1041', b'Product B', ..., b'Location 23', b'Region 4', b'16600.0'],\n",
       "       [b'1042', b'id_1042', b'Product C', ..., b'Location 52', b'Region 6', b'15600.0'],\n",
       "       [b'1043', b'id_1043', b'Product B', ..., b'Location 142', b'Region 6', b'16600.0']], dtype='|S14')"
      ]
     },
     "execution_count": 81,
     "metadata": {},
     "output_type": "execute_result"
    }
   ],
   "source": [
    "lending_co_LT = np.genfromtxt('../Data/lending-co-LT.csv',\n",
    "                              delimiter = ',',\n",
    "                              dtype = None)\n",
    "lending_co_LT"
   ]
  },
  {
   "cell_type": "code",
   "execution_count": null,
   "metadata": {},
   "outputs": [],
   "source": []
  }
 ],
 "metadata": {
  "kernelspec": {
   "display_name": "Python 3",
   "language": "python",
   "name": "python3"
  },
  "language_info": {
   "codemirror_mode": {
    "name": "ipython",
    "version": 3
   },
   "file_extension": ".py",
   "mimetype": "text/x-python",
   "name": "python",
   "nbconvert_exporter": "python",
   "pygments_lexer": "ipython3",
   "version": "3.8.11"
  }
 },
 "nbformat": 4,
 "nbformat_minor": 2
}
