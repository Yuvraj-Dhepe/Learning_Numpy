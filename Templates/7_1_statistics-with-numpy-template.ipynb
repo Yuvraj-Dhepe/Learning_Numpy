{
 "cells": [
  {
   "cell_type": "markdown",
   "metadata": {},
   "source": [
    "# Statistsics w/ NumPy"
   ]
  },
  {
   "cell_type": "code",
   "execution_count": 1,
   "metadata": {},
   "outputs": [],
   "source": [
    "import numpy as np"
   ]
  },
  {
   "cell_type": "markdown",
   "metadata": {},
   "source": [
    "### np.mean()"
   ]
  },
  {
   "cell_type": "code",
   "execution_count": 2,
   "metadata": {},
   "outputs": [
    {
     "data": {
      "text/plain": [
       "array([[1, 2, 3, 4, 5],\n",
       "       [0, 1, 3, 6, 8],\n",
       "       [9, 4, 2, 1, 3]])"
      ]
     },
     "execution_count": 2,
     "metadata": {},
     "output_type": "execute_result"
    }
   ],
   "source": [
    "array_a = np.array([[1,2,3,4,5],[0,1,3,6,8],[9,4,2,1,3]])\n",
    "array_a"
   ]
  },
  {
   "cell_type": "code",
   "execution_count": 5,
   "metadata": {
    "scrolled": true
   },
   "outputs": [
    {
     "data": {
      "text/plain": [
       "3.466666666666667"
      ]
     },
     "execution_count": 5,
     "metadata": {},
     "output_type": "execute_result"
    }
   ],
   "source": [
    "# Calculating the mean for all the elements in the matrix, i.e. we convert the whole matrix to a flattened \n",
    "# array and then calculate the output.\n",
    "np.mean(array_a)"
   ]
  },
  {
   "cell_type": "code",
   "execution_count": 8,
   "metadata": {},
   "outputs": [
    {
     "name": "stdout",
     "output_type": "stream",
     "text": [
      "3.0\n",
      "3.3333333333333335\n"
     ]
    }
   ],
   "source": [
    "# Calculating mean for a specific row or column by specific indexing, the default dtype for mean universal function is\n",
    "# float64\n",
    "print(np.mean(array_a[0,:])) \n",
    "print(np.mean(array_a[:,0]))"
   ]
  },
  {
   "cell_type": "code",
   "execution_count": 9,
   "metadata": {},
   "outputs": [
    {
     "name": "stdout",
     "output_type": "stream",
     "text": [
      "[3.33333333 2.33333333 2.66666667 3.66666667 5.33333333]\n",
      "[3.  3.6 3.8]\n"
     ]
    }
   ],
   "source": [
    "# Calculating the mean for all the columns or rows simultaneuously \n",
    "print(np.mean(array_a, axis = 0)) #Calculating the mean for every single column.\n",
    "print(np.mean(array_a, axis = 1)) #Calculating the mean for every single row."
   ]
  },
  {
   "cell_type": "markdown",
   "metadata": {},
   "source": [
    "### Min & Max Values"
   ]
  },
  {
   "cell_type": "code",
   "execution_count": 10,
   "metadata": {},
   "outputs": [
    {
     "data": {
      "text/plain": [
       "array([[1, 0, 0, 3, 5],\n",
       "       [3, 6, 6, 2, 9],\n",
       "       [4, 5, 3, 8, 0]])"
      ]
     },
     "execution_count": 10,
     "metadata": {},
     "output_type": "execute_result"
    }
   ],
   "source": [
    "matrix_A = np.array([[1,0,0,3,5],[3,6,6,2,9],[4,5,3,8,0]])\n",
    "matrix_A"
   ]
  },
  {
   "cell_type": "code",
   "execution_count": 17,
   "metadata": {},
   "outputs": [
    {
     "data": {
      "text/plain": [
       "0"
      ]
     },
     "execution_count": 17,
     "metadata": {},
     "output_type": "execute_result"
    }
   ],
   "source": [
    "np.min(matrix_A) # This flattens the array to 1D and gives us the most min. value from the array.\n",
    "#np.amin are similar functions with just different output. amin is just an alias to min."
   ]
  },
  {
   "cell_type": "code",
   "execution_count": 18,
   "metadata": {},
   "outputs": [
    {
     "data": {
      "text/plain": [
       "array([0, 2, 0])"
      ]
     },
     "execution_count": 18,
     "metadata": {},
     "output_type": "execute_result"
    }
   ],
   "source": [
    "np.min(matrix_A, axis = 1) # Gives min value from each row."
   ]
  },
  {
   "cell_type": "code",
   "execution_count": 19,
   "metadata": {},
   "outputs": [
    {
     "data": {
      "text/plain": [
       "array([1, 0, 0, 2, 0])"
      ]
     },
     "execution_count": 19,
     "metadata": {},
     "output_type": "execute_result"
    }
   ],
   "source": [
    "np.min(matrix_A, axis = 0) # Gives min value from each of the columns."
   ]
  },
  {
   "cell_type": "code",
   "execution_count": 22,
   "metadata": {},
   "outputs": [
    {
     "data": {
      "text/plain": [
       "array([1, 0, 0, 2, 5])"
      ]
     },
     "execution_count": 22,
     "metadata": {},
     "output_type": "execute_result"
    }
   ],
   "source": [
    "np.minimum(matrix_A[0],matrix_A[1]) #This is a function that compares 2 equal sized arrays and gives an array of same dimensions with \n",
    "# least values from each element wise comparision between the 2 arrays."
   ]
  },
  {
   "cell_type": "code",
   "execution_count": 24,
   "metadata": {},
   "outputs": [
    {
     "data": {
      "text/plain": [
       "array([0, 2, 0])"
      ]
     },
     "execution_count": 24,
     "metadata": {},
     "output_type": "execute_result"
    }
   ],
   "source": [
    "np.minimum.reduce(matrix_A,axis = 1) #reduce divides will feed individual rows of the matrix to minimum function for \n",
    "# generating the output, likewise happens for columns with axis =1 and we get minimum values for each row."
   ]
  },
  {
   "cell_type": "code",
   "execution_count": 25,
   "metadata": {},
   "outputs": [],
   "source": [
    "# The difference in minima and minimum is that minima is a plural word for more than one minimums.\n",
    "# Also min function, uses minimum only, where the np.min() provides greater flexibility and np.minimum()\n",
    "# is slightly very more efficient than the min function."
   ]
  },
  {
   "cell_type": "markdown",
   "metadata": {},
   "source": [
    "### Statistical Order Functions \n",
    "- These are basic statistic functions like ptp, percentile and quantile, which allow us to get a specific value out from the dataset based on a certain condition."
   ]
  },
  {
   "cell_type": "code",
   "execution_count": 26,
   "metadata": {},
   "outputs": [
    {
     "data": {
      "text/plain": [
       "array([[1, 0, 0, 3, 5],\n",
       "       [3, 6, 6, 2, 9],\n",
       "       [4, 5, 3, 8, 0]])"
      ]
     },
     "execution_count": 26,
     "metadata": {},
     "output_type": "execute_result"
    }
   ],
   "source": [
    "matrix_A"
   ]
  },
  {
   "cell_type": "code",
   "execution_count": 28,
   "metadata": {},
   "outputs": [
    {
     "data": {
      "text/plain": [
       "9"
      ]
     },
     "execution_count": 28,
     "metadata": {},
     "output_type": "execute_result"
    }
   ],
   "source": [
    "np.ptp(matrix_A) # This will give the differences of 2 peaks for the flattened array i.e. between max and the min\n",
    "# values of the array."
   ]
  },
  {
   "cell_type": "code",
   "execution_count": 29,
   "metadata": {},
   "outputs": [
    {
     "data": {
      "text/plain": [
       "array([3, 6, 6, 6, 9])"
      ]
     },
     "execution_count": 29,
     "metadata": {},
     "output_type": "execute_result"
    }
   ],
   "source": [
    "np.ptp(matrix_A, axis = 0)"
   ]
  },
  {
   "cell_type": "code",
   "execution_count": 30,
   "metadata": {},
   "outputs": [
    {
     "data": {
      "text/plain": [
       "array([5, 7, 8])"
      ]
     },
     "execution_count": 30,
     "metadata": {},
     "output_type": "execute_result"
    }
   ],
   "source": [
    "np.ptp(matrix_A,axis = 1)"
   ]
  },
  {
   "cell_type": "code",
   "execution_count": 33,
   "metadata": {},
   "outputs": [
    {
     "data": {
      "text/plain": [
       "array([0, 0, 0, 1, 2, 3, 3, 3, 4, 5, 5, 6, 6, 8, 9])"
      ]
     },
     "execution_count": 33,
     "metadata": {},
     "output_type": "execute_result"
    }
   ],
   "source": [
    "#np.sort(matrix_A) # This sorts along the rows i.e. axis = 1, however for getting a flattened array we set axis to \n",
    "# 1\n",
    "np.sort(matrix_A,axis = None)"
   ]
  },
  {
   "cell_type": "code",
   "execution_count": 35,
   "metadata": {},
   "outputs": [
    {
     "data": {
      "text/plain": [
       "5"
      ]
     },
     "execution_count": 35,
     "metadata": {},
     "output_type": "execute_result"
    }
   ],
   "source": [
    "np.percentile(matrix_A, q = 70,interpolation = 'nearest')\n",
    "# Percentiles give a value from the sorted data for an array which is not any specific distribution.\n",
    "# For our 70th percentile we want a value which is at 15*.7 = 10.5 position, basically an element between \n",
    "#10th and 11th element, to choose one, i.e. pull out a specific value that will be 70th percentile, a no. between\n",
    "#4 and 5 is chosen, this decision is taken by interpolation argument, i.e. what to pull from the dataset.\n",
    "\n",
    "# However if interpolation is upper it chooses values from the array itself, just higher bound and same thing \n",
    "# happens for the lower interpolation too, also for nearest we get a value from the array."
   ]
  },
  {
   "cell_type": "code",
   "execution_count": 39,
   "metadata": {},
   "outputs": [
    {
     "data": {
      "text/plain": [
       "3"
      ]
     },
     "execution_count": 39,
     "metadata": {},
     "output_type": "execute_result"
    }
   ],
   "source": [
    "np.percentile(matrix_A, q = 50 , interpolation = 'higher')"
   ]
  },
  {
   "cell_type": "markdown",
   "metadata": {},
   "source": [
    "### Averages and Variances\n",
    "- These are the standard statistical functions those are averages or mean, median, mode, variance, standard deviation.\n",
    "- Each one has their own functions for the calculations of the same from the array"
   ]
  },
  {
   "cell_type": "code",
   "execution_count": 44,
   "metadata": {},
   "outputs": [
    {
     "data": {
      "text/plain": [
       "3.0"
      ]
     },
     "execution_count": 44,
     "metadata": {},
     "output_type": "execute_result"
    }
   ],
   "source": [
    "np.median(matrix_A) # This will just get the middle most value from the sorted form of array."
   ]
  },
  {
   "cell_type": "code",
   "execution_count": 45,
   "metadata": {},
   "outputs": [
    {
     "data": {
      "text/plain": [
       "3.6666666666666665"
      ]
     },
     "execution_count": 45,
     "metadata": {},
     "output_type": "execute_result"
    }
   ],
   "source": [
    "np.mean(matrix_A) # This calculates the mean or the average for the whole array."
   ]
  },
  {
   "cell_type": "code",
   "execution_count": 46,
   "metadata": {},
   "outputs": [
    {
     "data": {
      "text/plain": [
       "3.6666666666666665"
      ]
     },
     "execution_count": 46,
     "metadata": {},
     "output_type": "execute_result"
    }
   ],
   "source": [
    "np.average(matrix_A) # This is similar to the mean function but is just a bit more flexible, than the mean \n",
    "# function and calculates the weighted average for the matrix, if some weights are given to each element."
   ]
  },
  {
   "cell_type": "code",
   "execution_count": 51,
   "metadata": {},
   "outputs": [
    {
     "data": {
      "text/plain": [
       "array([[0.75915734, 0.7662218 , 0.6291028 , 0.20336599, 0.66501486],\n",
       "       [0.06559111, 0.71326309, 0.10812106, 0.87969046, 0.49405844],\n",
       "       [0.82472673, 0.45652944, 0.07367232, 0.69628564, 0.36690736]])"
      ]
     },
     "execution_count": 51,
     "metadata": {},
     "output_type": "execute_result"
    }
   ],
   "source": [
    "from numpy.random import Generator as gen\n",
    "from numpy.random import PCG64 as pcg\n",
    "\n",
    "array_RG = gen(pcg(seed = 365))\n",
    "weights = array_RG.random(size = (3,5))\n",
    "weights"
   ]
  },
  {
   "cell_type": "code",
   "execution_count": 52,
   "metadata": {},
   "outputs": [
    {
     "data": {
      "text/plain": [
       "3.5574147203901205"
      ]
     },
     "execution_count": 52,
     "metadata": {},
     "output_type": "execute_result"
    }
   ],
   "source": [
    "np.average(matrix_A,weights = weights)"
   ]
  },
  {
   "cell_type": "code",
   "execution_count": 53,
   "metadata": {},
   "outputs": [
    {
     "data": {
      "text/plain": [
       "7.555555555555556"
      ]
     },
     "execution_count": 53,
     "metadata": {},
     "output_type": "execute_result"
    }
   ],
   "source": [
    "np.var(matrix_A) # Function to get the variance of the given array."
   ]
  },
  {
   "cell_type": "code",
   "execution_count": 55,
   "metadata": {},
   "outputs": [
    {
     "data": {
      "text/plain": [
       "2.748737083745107"
      ]
     },
     "execution_count": 55,
     "metadata": {},
     "output_type": "execute_result"
    }
   ],
   "source": [
    "np.std(matrix_A) # Function to get the std.deviation of the given array."
   ]
  },
  {
   "cell_type": "markdown",
   "metadata": {},
   "source": [
    "### Correlation and Covariance\n",
    "- These are statistical measure used to find relationship between 2 variables if it exists.\n",
    "- However remember the standard line that correlation doesn't imply causation.\n",
    "- For finding the relationship we have measures such as covariance and correlation coeff."
   ]
  },
  {
   "cell_type": "code",
   "execution_count": 56,
   "metadata": {},
   "outputs": [
    {
     "data": {
      "text/plain": [
       "array([[ 4.7,  1.8, -2. ],\n",
       "       [ 1.8,  7.7, -7. ],\n",
       "       [-2. , -7. ,  8.5]])"
      ]
     },
     "execution_count": 56,
     "metadata": {},
     "output_type": "execute_result"
    }
   ],
   "source": [
    "B = np.cov(matrix_A)\n",
    "# Here we obtain a symmetric matrix, cause we use the rows to find cov with itself, and with the \n",
    "# other rows. i.e. 1st row of B consists of cov(A[0],A[0]),cov(A[0],A[1]),cov(A[0],A[2])\n",
    "# likewise the bottom rows are filled, and since cov(X,Y) = cov(Y,X) we get a symmetric matrix."
   ]
  },
  {
   "cell_type": "code",
   "execution_count": null,
   "metadata": {},
   "outputs": [],
   "source": [
    "C = np.corrcoef(matrix_A)\n",
    "# Here we obtain a symmetric matrix, and the logic remains same as above.\n",
    "# However the formulaes change a bit cause in corrcoeff, we divide by the std. dev of both the variables involved.\n",
    "# Because of the formulae change only we obtain 1 in the diagonal matrix cause corr(X,X) = 1.\n",
    "# i.e. They are strongly correlated which is obvious."
   ]
  },
  {
   "cell_type": "markdown",
   "metadata": {},
   "source": [
    "### Histograms\n",
    "- These statistical diagrams help us to find the distribution of the data.\n",
    "- Here the data is divided into bins and the bin width is decided with the help of no. of bins.\n",
    "- Every bars height is total no. of values from data set that lie in the range of the bin.\n",
    "- I am skipping 2D histogram for the time being."
   ]
  },
  {
   "cell_type": "code",
   "execution_count": 57,
   "metadata": {},
   "outputs": [
    {
     "data": {
      "text/plain": [
       "array([[1, 0, 0, 3, 5],\n",
       "       [3, 6, 6, 2, 9],\n",
       "       [4, 5, 3, 8, 0]])"
      ]
     },
     "execution_count": 57,
     "metadata": {},
     "output_type": "execute_result"
    }
   ],
   "source": [
    "matrix_A"
   ]
  },
  {
   "cell_type": "code",
   "execution_count": 68,
   "metadata": {},
   "outputs": [
    {
     "name": "stdout",
     "output_type": "stream",
     "text": [
      "[0 0 0 1 2 3 3 3 4 5 5 6 6 8 9]\n"
     ]
    },
    {
     "data": {
      "text/plain": [
       "(array([3, 1, 1, 3, 1, 2, 2, 0, 1, 1], dtype=int64),\n",
       " array([0. , 0.9, 1.8, 2.7, 3.6, 4.5, 5.4, 6.3, 7.2, 8.1, 9. ]))"
      ]
     },
     "execution_count": 68,
     "metadata": {},
     "output_type": "execute_result"
    }
   ],
   "source": [
    "# The first output is the density array, the density array denotes how many values lie in a particular bin.\n",
    "# Consider first array as A and second one as B.\n",
    "# Therefore the bins are:\n",
    "#([0,0.9),[0.9,1.8),[1.8,2.7),[2.7,3.6),[3.6,4.5),[4.5,5.4),[5.4,6.3),[6.3,7.2),[7.2,8.1),[8.1,9.0])\n",
    "# The bins are in form of close-open, while the last bin is close-close to include the end point.\n",
    "# In array A density 3 belongs to first bin, i.e. from whole dataset, only 3 elements belong to that bin.\n",
    "# Likewise 1 element belongs to 8.1 to 9.0 range.                               \n",
    "# This is a tuple and indexing does work here.\n",
    "print(np.sort(matrix_A,axis = None))\n",
    "(np.histogram(matrix_A))"
   ]
  },
  {
   "cell_type": "code",
   "execution_count": 70,
   "metadata": {},
   "outputs": [
    {
     "name": "stdout",
     "output_type": "stream",
     "text": [
      "(array([2, 4, 4, 2], dtype=int64), array([1., 3., 5., 7., 9.]))\n"
     ]
    }
   ],
   "source": [
    "# We can specify the range for bins to decide the starting point and ending points of bins.\n",
    "# We can also specify the no. of bins.\n",
    "# This will alter the width of the bins and the height of the bars.\n",
    "print(np.histogram(matrix_A,bins =4,range = (1,9)))"
   ]
  },
  {
   "cell_type": "code",
   "execution_count": 89,
   "metadata": {},
   "outputs": [],
   "source": [
    "# We can also plot the histogram with the density array as the height and bins array.\n",
    "# import matplotlib.pyplot as plt\n",
    "# import seaborn as sns\n",
    "# #import seaborn as sns\n",
    "# sns.set()"
   ]
  },
  {
   "cell_type": "code",
   "execution_count": 126,
   "metadata": {},
   "outputs": [
    {
     "data": {
      "image/png": "[encoded data removed]",
      "text/plain": [
       "<Figure size 1000x600 with 1 Axes>"
      ]
     },
     "metadata": {},
     "output_type": "display_data"
    }
   ],
   "source": [
    "bin_s = np.histogram(matrix_A)[1]\n",
    "tick_labels = '[0,0.9);[0.9,1.8);[1.8,2.7);[2.7,3.6);[3.6,4.5);[4.5,5.4);[5.4,6.3);[6.3,7.2);[7.2,8.1);[8.1,9.0]'.split(';')\n",
    "data = matrix_A.flat # Giving all the data points in a 1D array.\n",
    "\n",
    "# The plot\n",
    "sns.set_style('white')\n",
    "plt.figure(figsize = (10,6))\n",
    "plt.subplot(111)\n",
    "plt.hist(matrix_A.flat,bins = bin_s,color = 'darkblue')\n",
    "plt.xticks(ticks = range(len(tick_labels)),labels = tick_labels,weight = 'bold')\n",
    "plt.yticks(ticks = list(np.arange(0,4,.5)),weight = 'bold')\n",
    "plt.legend([\"Matrix_A\"],loc = 'upper center')\n",
    "sns.despine()\n",
    "plt.show()"
   ]
  },
  {
   "cell_type": "markdown",
   "metadata": {},
   "source": [
    "### NaN-Equivalents\n",
    "- These are the functions which we have studied above, the difference being they can work with the NaN values also included in the dataset.\n",
    "- If we use the above function, then they give NaN as the output."
   ]
  },
  {
   "cell_type": "code",
   "execution_count": 128,
   "metadata": {},
   "outputs": [
    {
     "data": {
      "text/plain": [
       "array([[1, 0, 0, 3, 5],\n",
       "       [3, 6, 6, 2, 9],\n",
       "       [4, 5, 3, 8, 0]])"
      ]
     },
     "execution_count": 128,
     "metadata": {},
     "output_type": "execute_result"
    }
   ],
   "source": [
    "matrix_A"
   ]
  },
  {
   "cell_type": "code",
   "execution_count": 129,
   "metadata": {},
   "outputs": [
    {
     "data": {
      "text/plain": [
       "3.6666666666666665"
      ]
     },
     "execution_count": 129,
     "metadata": {},
     "output_type": "execute_result"
    }
   ],
   "source": [
    "np.mean(matrix_A)"
   ]
  },
  {
   "cell_type": "code",
   "execution_count": 130,
   "metadata": {},
   "outputs": [
    {
     "data": {
      "text/plain": [
       "3.6666666666666665"
      ]
     },
     "execution_count": 130,
     "metadata": {},
     "output_type": "execute_result"
    }
   ],
   "source": [
    "np.nanmean(matrix_A) # Output stays same for non-NaN dataset."
   ]
  },
  {
   "cell_type": "code",
   "execution_count": 131,
   "metadata": {},
   "outputs": [
    {
     "data": {
      "text/plain": [
       "array([[ 1.,  0.,  0.,  3.,  5.],\n",
       "       [ 3., nan, nan,  2.,  9.],\n",
       "       [ 4.,  5.,  3.,  8.,  0.]])"
      ]
     },
     "execution_count": 131,
     "metadata": {},
     "output_type": "execute_result"
    }
   ],
   "source": [
    "matrix_B = np.array([[1, 0, 0, 3, 5],[3, np.nan,np.nan , 2, 9],[4, 5, 3, 8, 0]])\n",
    "matrix_B"
   ]
  },
  {
   "cell_type": "code",
   "execution_count": 132,
   "metadata": {},
   "outputs": [
    {
     "data": {
      "text/plain": [
       "nan"
      ]
     },
     "execution_count": 132,
     "metadata": {},
     "output_type": "execute_result"
    }
   ],
   "source": [
    "np.mean(matrix_B)"
   ]
  },
  {
   "cell_type": "code",
   "execution_count": 134,
   "metadata": {},
   "outputs": [
    {
     "data": {
      "text/plain": [
       "3.3076923076923075"
      ]
     },
     "execution_count": 134,
     "metadata": {},
     "output_type": "execute_result"
    }
   ],
   "source": [
    "np.nanmean(matrix_B) \n",
    "# The NaN function just ignore the NaN values and makes calculations with the remaining data."
   ]
  }
 ],
 "metadata": {
  "kernelspec": {
   "display_name": "Python 3",
   "language": "python",
   "name": "python3"
  },
  "language_info": {
   "codemirror_mode": {
    "name": "ipython",
    "version": 3
   },
   "file_extension": ".py",
   "mimetype": "text/x-python",
   "name": "python",
   "nbconvert_exporter": "python",
   "pygments_lexer": "ipython3",
   "version": "3.8.11"
  }
 },
 "nbformat": 4,
 "nbformat_minor": 2
}
