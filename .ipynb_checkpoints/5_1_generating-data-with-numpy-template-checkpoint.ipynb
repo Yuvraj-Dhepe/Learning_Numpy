{
 "cells": [
  {
   "cell_type": "markdown",
   "metadata": {},
   "source": [
    "# Generating Data w/ Numpy"
   ]
  },
  {
   "cell_type": "code",
   "execution_count": 1,
   "metadata": {},
   "outputs": [],
   "source": [
    "import numpy as np"
   ]
  },
  {
   "cell_type": "markdown",
   "metadata": {},
   "source": [
    "### np.empty(), np.zeros(), np.ones(), np.full()\n",
    "- np.empty() creates an array with no values in it, its just empty, generally it contains 0 values, but sometimes it may have garbage values too.\n",
    "- np.zeroes() creates an array with 0 values in it, its consists of null values.\n",
    "- np.ones() will create an array with full of ones and of the given shape.\n",
    "- np.full() will create an array with some scalar value filled in the shape provided by us."
   ]
  },
  {
   "cell_type": "code",
   "execution_count": 3,
   "metadata": {},
   "outputs": [
    {
     "data": {
      "text/plain": [
       "array([[0., 0., 0.],\n",
       "       [0., 0., 0.]])"
      ]
     },
     "execution_count": 3,
     "metadata": {},
     "output_type": "execute_result"
    }
   ],
   "source": [
    "arr_empty = np.empty(shape = (2,3),dtype = np.float64)\n",
    "arr_empty"
   ]
  },
  {
   "cell_type": "code",
   "execution_count": 5,
   "metadata": {},
   "outputs": [
    {
     "data": {
      "text/plain": [
       "array([[0, 0, 0],\n",
       "       [0, 0, 0]])"
      ]
     },
     "execution_count": 5,
     "metadata": {},
     "output_type": "execute_result"
    }
   ],
   "source": [
    "arr_zeroes = np.zeros(shape = (2,3),dtype = int)\n",
    "arr_zeroes"
   ]
  },
  {
   "cell_type": "code",
   "execution_count": 7,
   "metadata": {
    "scrolled": true
   },
   "outputs": [
    {
     "data": {
      "text/plain": [
       "array([[1, 1, 1],\n",
       "       [1, 1, 1]])"
      ]
     },
     "execution_count": 7,
     "metadata": {},
     "output_type": "execute_result"
    }
   ],
   "source": [
    "arr_ones = np.ones(shape = (2,3),dtype = int)\n",
    "arr_ones"
   ]
  },
  {
   "cell_type": "code",
   "execution_count": 14,
   "metadata": {},
   "outputs": [
    {
     "data": {
      "text/plain": [
       "array([['Hello World!', 'Hello World!', 'Hello World!'],\n",
       "       ['Hello World!', 'Hello World!', 'Hello World!']], dtype='<U12')"
      ]
     },
     "execution_count": 14,
     "metadata": {},
     "output_type": "execute_result"
    }
   ],
   "source": [
    "arr_full = np.full(shape = (2,3),fill_value = \"Hello World!\")\n",
    "arr_full"
   ]
  },
  {
   "cell_type": "markdown",
   "metadata": {},
   "source": [
    "### \"_like\" functions\n",
    "- Like functions do the same thing as the above sequence non-random generators.\n",
    "- The only difference being that these functions will take an array as an input and then create a new array of the same shape and the outputs as per the function.\n",
    "- Like function copies the dtype of the array whose shape is being used, and hence by default new array will have same type, unless specified otherwise"
   ]
  },
  {
   "cell_type": "code",
   "execution_count": 34,
   "metadata": {},
   "outputs": [
    {
     "data": {
      "text/plain": [
       "array([['heloooooooo', 'heloooooooo', 'heloooooooo', 'heloooooooo'],\n",
       "       ['heloooooooo', 'heloooooooo', 'heloooooooo', 'heloooooooo']],\n",
       "      dtype='<U11')"
      ]
     },
     "execution_count": 34,
     "metadata": {},
     "output_type": "execute_result"
    }
   ],
   "source": [
    "# A random array of a particular shape which will give us the structure for creating the other types of arrays\n",
    "array = np.array([[\"heloooooooo\",\"heloooooooo\",\"heloooooooo\",\"heloooooooo\"],\\\n",
    "                  [\"heloooooooo\",\"heloooooooo\",\"heloooooooo\",\"heloooooooo\"]],dtype= str)\n",
    "array"
   ]
  },
  {
   "cell_type": "code",
   "execution_count": 40,
   "metadata": {},
   "outputs": [
    {
     "data": {
      "text/plain": [
       "array([['', '', '', ''],\n",
       "       ['', '', '', '']], dtype='<U11')"
      ]
     },
     "execution_count": 40,
     "metadata": {},
     "output_type": "execute_result"
    }
   ],
   "source": [
    "arr_empty = np.empty_like(array)\n",
    "arr_empty"
   ]
  },
  {
   "cell_type": "code",
   "execution_count": 41,
   "metadata": {},
   "outputs": [
    {
     "data": {
      "text/plain": [
       "array([['', '', '', ''],\n",
       "       ['', '', '', '']], dtype='<U11')"
      ]
     },
     "execution_count": 41,
     "metadata": {},
     "output_type": "execute_result"
    }
   ],
   "source": [
    "arr_zeroes = np.zeros_like(array)\n",
    "arr_zeroes"
   ]
  },
  {
   "cell_type": "code",
   "execution_count": 42,
   "metadata": {
    "scrolled": true
   },
   "outputs": [
    {
     "data": {
      "text/plain": [
       "array([['1', '1', '1', '1'],\n",
       "       ['1', '1', '1', '1']], dtype='<U11')"
      ]
     },
     "execution_count": 42,
     "metadata": {},
     "output_type": "execute_result"
    }
   ],
   "source": [
    "arr_ones = np.ones_like(array)\n",
    "arr_ones"
   ]
  },
  {
   "cell_type": "code",
   "execution_count": 39,
   "metadata": {},
   "outputs": [
    {
     "data": {
      "text/plain": [
       "array([['Hello ', 'Hello ', 'Hello ', 'Hello '],\n",
       "       ['Hello ', 'Hello ', 'Hello ', 'Hello ']], dtype='<U11')"
      ]
     },
     "execution_count": 39,
     "metadata": {},
     "output_type": "execute_result"
    }
   ],
   "source": [
    "arr_full = np.full_like(array,fill_value = 'Hello')\n",
    "arr_full"
   ]
  },
  {
   "cell_type": "markdown",
   "metadata": {},
   "source": [
    "### np.arange()\n",
    "- Here the arange stands simply for a range and stands for arrays Range.\n",
    "- This function actually generates a series of numbers as the Range function in python.\n",
    "- However the main difference being there the range function basically generates tuples, and they are converted to lists. \n",
    "- But here the np.arange function will generate an array series based on the arguments that go inside the function.\n",
    "- Here there is no by default start = 0 as indexing had.\n",
    "- But if we only give start, the arange will create an array with start as 0 and the stop as the given start value. i.e. If we give the start as 30, then the range will take the 30 as the stop value and the start value to be 0."
   ]
  },
  {
   "cell_type": "code",
   "execution_count": 43,
   "metadata": {},
   "outputs": [
    {
     "data": {
      "text/plain": [
       "array([ 0,  1,  2,  3,  4,  5,  6,  7,  8,  9, 10, 11, 12, 13, 14, 15, 16,\n",
       "       17, 18, 19, 20, 21, 22, 23, 24, 25, 26, 27, 28, 29])"
      ]
     },
     "execution_count": 43,
     "metadata": {},
     "output_type": "execute_result"
    }
   ],
   "source": [
    "range_array = np.arange(start = 30)\n",
    "range_array"
   ]
  },
  {
   "cell_type": "code",
   "execution_count": 47,
   "metadata": {},
   "outputs": [
    {
     "data": {
      "text/plain": [
       "array([ 0,  2,  4,  6,  8, 10, 12, 14, 16, 18, 20, 22, 24, 26, 28])"
      ]
     },
     "execution_count": 47,
     "metadata": {},
     "output_type": "execute_result"
    }
   ],
   "source": [
    "range_array_2 = np.arange(start = 0, stop = 30,step = 2)\n",
    "range_array_2"
   ]
  },
  {
   "cell_type": "code",
   "execution_count": 48,
   "metadata": {},
   "outputs": [
    {
     "data": {
      "text/plain": [
       "array([ 0. ,  2.5,  5. ,  7.5, 10. , 12.5, 15. , 17.5, 20. , 22.5, 25. ,\n",
       "       27.5])"
      ]
     },
     "execution_count": 48,
     "metadata": {},
     "output_type": "execute_result"
    }
   ],
   "source": [
    "range_array_3 = np.arange(start = 0, stop = 30,step = 2.5)\n",
    "range_array_3"
   ]
  },
  {
   "cell_type": "code",
   "execution_count": 50,
   "metadata": {},
   "outputs": [
    {
     "data": {
      "text/plain": [
       "array([ 0,  2,  4,  6,  8, 10, 12, 14, 16, 18, 20, 22])"
      ]
     },
     "execution_count": 50,
     "metadata": {},
     "output_type": "execute_result"
    }
   ],
   "source": [
    "# Here we don't get the multiples of 2, but we get the integers with step of 2, but we get only 12 elements, \n",
    "# cause with the step of 2.5, only 12 elements can be picked up.\n",
    "# So the point is don't consider the output as multiples of 2 as they are not.\n",
    "range_array_3 = np.arange(start = 0, stop = 30,step = 2.5,dtype = int)\n",
    "range_array_3"
   ]
  },
  {
   "cell_type": "markdown",
   "metadata": {},
   "source": [
    "## Random Generators"
   ]
  },
  {
   "cell_type": "markdown",
   "metadata": {},
   "source": [
    "### Defining Random Generators"
   ]
  },
  {
   "cell_type": "code",
   "execution_count": 53,
   "metadata": {},
   "outputs": [],
   "source": [
    "from numpy.random import Generator as gen # Generator function.\n",
    "from numpy.random import PCG64 as pcg # This is a bit generator.\n",
    "# The generator function takes a bit generator as an input and creates generator objects.\n",
    "\n",
    "#PCG is Permutation Congruential Generator which are function pointers that \n",
    "# can produce values up to 64 bits in size."
   ]
  },
  {
   "cell_type": "code",
   "execution_count": 54,
   "metadata": {},
   "outputs": [
    {
     "data": {
      "text/plain": [
       "0.8330189237307865"
      ]
     },
     "execution_count": 54,
     "metadata": {},
     "output_type": "execute_result"
    }
   ],
   "source": [
    " # This method pulls out a single random value from a standard normal distribution."
   ]
  },
  {
   "cell_type": "code",
   "execution_count": 58,
   "metadata": {},
   "outputs": [
    {
     "data": {
      "text/plain": [
       "array([-0.92699451, -1.8289533 ,  0.28369994, -0.11476081,  0.1916118 ])"
      ]
     },
     "execution_count": 58,
     "metadata": {},
     "output_type": "execute_result"
    }
   ],
   "source": [
    "array_RG.normal(size = 5) # This will bring 5 random values array every time and the value changes every time."
   ]
  },
  {
   "cell_type": "code",
   "execution_count": 60,
   "metadata": {},
   "outputs": [
    {
     "data": {
      "text/plain": [
       "array([[ 0.49502473, -0.39520211, -0.19603236, -0.15032579,  0.98584493],\n",
       "       [ 1.35998942,  0.45217894, -0.29888139,  0.65475579,  2.44050888],\n",
       "       [-1.23135067, -2.19229167,  2.04862471,  0.3664447 , -1.12300141],\n",
       "       [ 0.47287314, -1.78188623, -0.13738788,  2.56328242, -0.14175104],\n",
       "       [-0.6187722 , -0.25152134, -1.68570909, -1.85358494, -0.06528211]])"
      ]
     },
     "execution_count": 60,
     "metadata": {},
     "output_type": "execute_result"
    }
   ],
   "source": [
    "array_RG.normal(size = (5,5)) # We can also create an 2D array of the random values."
   ]
  },
  {
   "cell_type": "code",
   "execution_count": 66,
   "metadata": {},
   "outputs": [
    {
     "data": {
      "text/plain": [
       "array([[-0.13640899,  0.09414431, -0.06300442,  1.05391641, -0.6866818 ],\n",
       "       [-0.50922173, -0.7999526 ,  0.73041825,  0.08825439, -2.1177576 ],\n",
       "       [ 0.65526774, -0.48095012, -0.5519114 , -0.58578662, -0.98257896],\n",
       "       [ 1.12378166, -1.30984316, -0.04703774,  0.955272  ,  0.26071745],\n",
       "       [-0.20023668, -1.50172484, -1.4929163 ,  0.96535084,  1.18694633]])"
      ]
     },
     "execution_count": 66,
     "metadata": {},
     "output_type": "execute_result"
    }
   ],
   "source": [
    "# However sometimes we might need to generate values for once randomly and then use it multiple times consistently.\n",
    "# For that we use a seed as a parameter to the bit generator. The seed ensures the same no. being generated when \n",
    "# we specify the same seed. Usecase = Give same input to model everytime.\n",
    "array_RG = gen(pcg(seed = 365))\n",
    "array_RG.normal(size = (5,5))"
   ]
  },
  {
   "cell_type": "code",
   "execution_count": 73,
   "metadata": {},
   "outputs": [
    {
     "data": {
      "text/plain": [
       "array([[ 0.58830139,  0.43063835,  0.42871861, -0.49041682,  0.58326844],\n",
       "       [-0.10015833, -1.27535497,  0.94226986,  0.01434193, -1.20783944],\n",
       "       [ 0.16767707, -1.35242456,  0.51855231,  0.66726422,  0.5453976 ],\n",
       "       [-0.46037542,  2.10611129,  0.79579772, -1.44055324, -0.62070809],\n",
       "       [ 2.16041849, -0.50664074,  0.08321514,  0.87416817,  1.98530199]])"
      ]
     },
     "execution_count": 73,
     "metadata": {},
     "output_type": "execute_result"
    }
   ],
   "source": [
    "# Now the point to remember is that the seed remains active for one execution only  \n",
    "# so every time get the same random values we need to specify the seed for the RG- random generator function.\n",
    "# This is done so that people may forget once a seed is set and will always get the same value.\n",
    "\n",
    "# array_RG = gen(pcg(seed = 365)) Without this random values different than above are generated.\n",
    "array_RG.normal(size = (5,5))"
   ]
  },
  {
   "cell_type": "markdown",
   "metadata": {},
   "source": [
    "### Generating Integers, Probabilities and Random Choices\n",
    "- We saw how random generation works, and getting basic terminology of seeds, generator functions.\n",
    "- After this we will use specific functions to generate integers, probabilities and random choices."
   ]
  },
  {
   "cell_type": "code",
   "execution_count": 74,
   "metadata": {},
   "outputs": [
    {
     "data": {
      "text/plain": [
       "array([[-0.13640899,  0.09414431, -0.06300442,  1.05391641, -0.6866818 ],\n",
       "       [-0.50922173, -0.7999526 ,  0.73041825,  0.08825439, -2.1177576 ],\n",
       "       [ 0.65526774, -0.48095012, -0.5519114 , -0.58578662, -0.98257896],\n",
       "       [ 1.12378166, -1.30984316, -0.04703774,  0.955272  ,  0.26071745],\n",
       "       [-0.20023668, -1.50172484, -1.4929163 ,  0.96535084,  1.18694633]])"
      ]
     },
     "execution_count": 74,
     "metadata": {},
     "output_type": "execute_result"
    }
   ],
   "source": [
    "# First define a RG function.\n",
    "array_RG = gen(pcg(seed = 365))\n",
    "array_RG.normal(size = (5,5))"
   ]
  },
  {
   "cell_type": "code",
   "execution_count": 84,
   "metadata": {},
   "outputs": [
    {
     "data": {
      "text/plain": [
       "array([[ 6, 10,  4,  5,  6],\n",
       "       [ 1,  9,  7,  0,  3],\n",
       "       [11,  0,  5,  6, 11],\n",
       "       [ 0,  2,  3,  7,  8],\n",
       "       [ 0,  5, 11,  9,  4]], dtype=int64)"
      ]
     },
     "execution_count": 84,
     "metadata": {},
     "output_type": "execute_result"
    }
   ],
   "source": [
    "# Creating an array with random integers\n",
    "# Here we generate value from low to high-1 and do it randomly.\n",
    "# If we only specify low, then low is set to 0 and high to the value we specified in low.\n",
    "array_RG.integers(low = 12, size = (5,5))"
   ]
  },
  {
   "cell_type": "code",
   "execution_count": 86,
   "metadata": {},
   "outputs": [
    {
     "data": {
      "text/plain": [
       "array([[0.07297074, 0.52586653, 0.01239245, 0.22309532, 0.89845526],\n",
       "       [0.89214756, 0.54528016, 0.9196353 , 0.2630934 , 0.94166123],\n",
       "       [0.28297619, 0.7369772 , 0.70370802, 0.29407794, 0.70988119],\n",
       "       [0.75161463, 0.09717125, 0.8397204 , 0.66449766, 0.05516039],\n",
       "       [0.33356683, 0.0034234 , 0.81017284, 0.3652647 , 0.01801856]])"
      ]
     },
     "execution_count": 86,
     "metadata": {},
     "output_type": "execute_result"
    }
   ],
   "source": [
    "# Sometimes we will require values between 0 and 1 and that's for probabilities, so we use the \n",
    "# probability function which picks values from a continuous uniform distribution.\n",
    "array_RG.random(size = (5,5))# No need of high and low as all values are in 0 and 1"
   ]
  },
  {
   "cell_type": "code",
   "execution_count": 104,
   "metadata": {},
   "outputs": [
    {
     "data": {
      "text/plain": [
       "array([[1, 2, 2, 3, 1],\n",
       "       [5, 1, 1, 3, 5],\n",
       "       [1, 4, 1, 1, 3],\n",
       "       [1, 1, 1, 1, 2],\n",
       "       [1, 5, 1, 4, 1]])"
      ]
     },
     "execution_count": 104,
     "metadata": {},
     "output_type": "execute_result"
    }
   ],
   "source": [
    "# Sometimes we need specific values from the given values only, not a range but specific values.\n",
    "# There we use choice function. By default every outocome will be equally likely, unless we specify probabilities \n",
    "# of our own to each element.\n",
    "\n",
    "# If p is specified, every element will have probability that is almost equal to given p value.\n",
    "\n",
    "# While specifying probabilities, remember that probability arrays length has to match the length of choices array.\n",
    "array_RG.choice(a = [1,2,3,4,5],p = [.50,.10,.10,.10,.20],size = (5,5))"
   ]
  },
  {
   "cell_type": "markdown",
   "metadata": {},
   "source": [
    "### Generating Arrays From Known Distributions\n",
    "- Here we will be generating the random values from specific distributions such as poisson, binomial and logistic distribution."
   ]
  },
  {
   "cell_type": "code",
   "execution_count": 108,
   "metadata": {
    "scrolled": true
   },
   "outputs": [
    {
     "data": {
      "text/plain": [
       "array([[2, 0, 1, 1, 2],\n",
       "       [1, 1, 0, 1, 1],\n",
       "       [1, 2, 1, 1, 0],\n",
       "       [0, 1, 0, 2, 1],\n",
       "       [0, 1, 0, 0, 2]], dtype=int64)"
      ]
     },
     "execution_count": 108,
     "metadata": {},
     "output_type": "execute_result"
    }
   ],
   "source": [
    "array_RG = gen(pcg(seed = 365))\n",
    "array_RG.poisson(lam = .9, size = (5,5))"
   ]
  },
  {
   "cell_type": "code",
   "execution_count": 111,
   "metadata": {},
   "outputs": [
    {
     "data": {
      "text/plain": [
       "array([[77, 77, 79, 83, 78],\n",
       "       [86, 78, 85, 75, 80],\n",
       "       [76, 81, 86, 78, 81],\n",
       "       [82, 80, 80, 79, 80],\n",
       "       [79, 87, 78, 76, 84]], dtype=int64)"
      ]
     },
     "execution_count": 111,
     "metadata": {},
     "output_type": "execute_result"
    }
   ],
   "source": [
    "# Here we will get the collection of probabilities i.e. out of 100 outcomes the success has a p of near to 40%\n",
    "array_RG = gen(pcg(seed = 365))\n",
    "array_RG.binomial(n = 100, p = .8, size = (5,5))"
   ]
  },
  {
   "cell_type": "markdown",
   "metadata": {},
   "source": [
    "https://numpy.org/doc/stable/reference/random/generator"
   ]
  },
  {
   "cell_type": "markdown",
   "metadata": {},
   "source": [
    "### Applications of Random Generators\n",
    "- We basically use random generators to create tests for the model.\n",
    "- In tests we use random values to test the models versatile nature."
   ]
  },
  {
   "cell_type": "code",
   "execution_count": 125,
   "metadata": {},
   "outputs": [],
   "source": [
    "# Generating the 5 different arrays of the same size to keep the columns of the same size.\n",
    "array_RG = gen(pcg(seed = 364))\n",
    "array_1 = array_RG.poisson(lam = .9,size=(1000))\n",
    "array_2 = array_RG.binomial(n = 100, p = .6,size=(1000))\n",
    "array_3 = array_RG.normal(loc = 7, scale = 2,size=(1000))\n",
    "array_4 = array_RG.exponential(scale = 4,size=(1000))\n",
    "array_5 = array_RG.geometric(p = 0.7,size=(1000))"
   ]
  },
  {
   "cell_type": "code",
   "execution_count": 126,
   "metadata": {},
   "outputs": [
    {
     "name": "stdout",
     "output_type": "stream",
     "text": [
      "(1000, 5)\n"
     ]
    }
   ],
   "source": [
    "# Converging the numbers in a column array.\n",
    "array = np.array([array_1,array_2,array_3,array_4,array_5]).transpose()\n",
    "print(array.shape)"
   ]
  },
  {
   "cell_type": "code",
   "execution_count": 132,
   "metadata": {},
   "outputs": [
    {
     "name": "stdout",
     "output_type": "stream",
     "text": [
      "[[ 0.         64.          7.72970997  5.6021137   1.        ]\n",
      " [ 1.         53.          6.02103397  3.82156739  1.        ]\n",
      " [ 0.         67.          4.54775707  4.86846517  1.        ]\n",
      " ...\n",
      " [ 3.         59.          6.62905739  1.25272944  1.        ]\n",
      " [ 0.         59.          8.95309233  0.48415405  1.        ]\n",
      " [ 2.         58.          4.89175141  1.08191056  1.        ]]\n"
     ]
    }
   ],
   "source": [
    "# Saving the random generated numbers in a file in the string format.\n",
    "print(array)\n",
    "np.savetxt(\"Random_Test_From_Numpy.csv\",array,fmt = '%s',delimiter = ',')"
   ]
  },
  {
   "cell_type": "code",
   "execution_count": 130,
   "metadata": {},
   "outputs": [
    {
     "data": {
      "text/plain": [
       "array([[ 0.        , 64.        ,  7.72970997,  5.6021137 ,  1.        ],\n",
       "       [ 1.        , 53.        ,  6.02103397,  3.82156739,  1.        ],\n",
       "       [ 0.        , 67.        ,  4.54775707,  4.86846517,  1.        ],\n",
       "       ...,\n",
       "       [ 3.        , 59.        ,  6.62905739,  1.25272944,  1.        ],\n",
       "       [ 0.        , 59.        ,  8.95309233,  0.48415405,  1.        ],\n",
       "       [ 2.        , 58.        ,  4.89175141,  1.08191056,  1.        ]])"
      ]
     },
     "execution_count": 130,
     "metadata": {},
     "output_type": "execute_result"
    }
   ],
   "source": [
    "# Retrieving the same file.\n",
    "np.genfromtxt(\"Random_Test_From_Numpy.csv\",delimiter= ',')"
   ]
  }
 ],
 "metadata": {
  "kernelspec": {
   "display_name": "Python 3",
   "language": "python",
   "name": "python3"
  },
  "language_info": {
   "codemirror_mode": {
    "name": "ipython",
    "version": 3
   },
   "file_extension": ".py",
   "mimetype": "text/x-python",
   "name": "python",
   "nbconvert_exporter": "python",
   "pygments_lexer": "ipython3",
   "version": "3.8.11"
  }
 },
 "nbformat": 4,
 "nbformat_minor": 2
}
