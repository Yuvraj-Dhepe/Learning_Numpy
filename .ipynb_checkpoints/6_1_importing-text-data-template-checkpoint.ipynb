{
 "cells": [
  {
   "cell_type": "markdown",
   "metadata": {},
   "source": [
    "## Importing Data with NumPy"
   ]
  },
  {
   "cell_type": "code",
   "execution_count": 1,
   "metadata": {},
   "outputs": [],
   "source": [
    "import numpy as np"
   ]
  },
  {
   "cell_type": "markdown",
   "metadata": {},
   "source": [
    "### np.loadtxt() vs np.genfromtxt()\n",
    "- These are the 2 functions which are used for working with data and pull them into the code to work with the different data files.\n",
    "- Load implies the data is ready to be directly imported and used.\n",
    "- Generate indicates that the function creates datase from the text file. \n",
    "- Generating requires constructing the array as we go through the text file.\n",
    "- While loading we use delimieters which are pre-defined symbols which are used to define distinct fields in text files. This is a very common approach to store large datasets in text files this way."
   ]
  },
  {
   "cell_type": "code",
   "execution_count": 12,
   "metadata": {},
   "outputs": [
    {
     "name": "stdout",
     "output_type": "stream",
     "text": [
      "(1043, 6)\n"
     ]
    },
    {
     "data": {
      "text/plain": [
       "array([[ 2000.,    40.,   365.,  3121.,  4241., 13621.],\n",
       "       [ 2000.,    40.,   365.,  3061.,  4171., 15041.],\n",
       "       [ 1000.,    40.,   365.,  2160.,  3280., 15340.],\n",
       "       ...,\n",
       "       [ 2000.,    40.,   365.,  4201.,  5001., 16600.],\n",
       "       [ 1000.,    40.,   365.,  2080.,  3320., 15600.],\n",
       "       [ 2000.,    40.,   365.,  4601.,  4601., 16600.]])"
      ]
     },
     "execution_count": 12,
     "metadata": {},
     "output_type": "execute_result"
    }
   ],
   "source": [
    "# This one is a faster method but it breaks when it encounters strings or NAN values, because the default dtype is of int.\n",
    "lending_co_data_numeric_1 = np.loadtxt(\".\\Data\\Lending-Company-Numeric-Data.csv\",delimiter = ',')\n",
    "type(lending_co_data_numeric_1)\n",
    "print(lending_co_data_numeric_1.shape)\n",
    "lending_co_data_numeric_1"
   ]
  },
  {
   "cell_type": "code",
   "execution_count": 14,
   "metadata": {},
   "outputs": [
    {
     "name": "stdout",
     "output_type": "stream",
     "text": [
      "(1043, 6)\n"
     ]
    },
    {
     "data": {
      "text/plain": [
       "array([[ 2000.,    40.,   365.,  3121.,  4241., 13621.],\n",
       "       [ 2000.,    40.,   365.,  3061.,  4171., 15041.],\n",
       "       [ 1000.,    40.,   365.,  2160.,  3280., 15340.],\n",
       "       ...,\n",
       "       [ 2000.,    40.,   365.,  4201.,  5001., 16600.],\n",
       "       [ 1000.,    40.,   365.,  2080.,  3320., 15600.],\n",
       "       [ 2000.,    40.,   365.,  4601.,  4601., 16600.]])"
      ]
     },
     "execution_count": 14,
     "metadata": {},
     "output_type": "execute_result"
    }
   ],
   "source": [
    "# This one is a slower method but it handles the NAN values well.\n",
    "lending_co_data_numeric_2 = np.genfromtxt(\".\\Data\\Lending-Company-Numeric-Data.csv\",delimiter = ',')\n",
    "type(lending_co_data_numeric_2)\n",
    "print(lending_co_data_numeric_2.shape)\n",
    "lending_co_data_numeric_2"
   ]
  },
  {
   "cell_type": "code",
   "execution_count": 16,
   "metadata": {
    "scrolled": true
   },
   "outputs": [
    {
     "data": {
      "text/plain": [
       "True"
      ]
     },
     "execution_count": 16,
     "metadata": {},
     "output_type": "execute_result"
    }
   ],
   "source": [
    "# Thus both the arrays are equal\n",
    "np.array_equal(lending_co_data_numeric_1,lending_co_data_numeric_2)"
   ]
  },
  {
   "cell_type": "code",
   "execution_count": 29,
   "metadata": {},
   "outputs": [
    {
     "name": "stdout",
     "output_type": "stream",
     "text": [
      "[['2000']\n",
      " ['2000']\n",
      " ['1000']\n",
      " ...\n",
      " ['']\n",
      " ['1000']\n",
      " ['2000']]\n",
      "<class 'numpy.ndarray'>\n",
      "(1043, 6)\n"
     ]
    },
    {
     "data": {
      "text/plain": [
       "array([['2000', '40', '365', '3121', '4241', '13621'],\n",
       "       ['2000', '40', '365', '3061', '4171', '15041'],\n",
       "       ['1000', '40', '365', '2160', '3280', '15340'],\n",
       "       ...,\n",
       "       ['', '40', '365', '4201', '5001', '16600'],\n",
       "       ['1000', '40', '365', '2080', '3320', '15600'],\n",
       "       ['2000', '40', '365', '4601', '4601', '16600']], dtype='<U5')"
      ]
     },
     "execution_count": 29,
     "metadata": {},
     "output_type": "execute_result"
    }
   ],
   "source": [
    "# For handling NaN values with np.loadtxt we need to set dtype to str, else it gives an error on finding an empty \n",
    "# string in arrays of numeric values.\n",
    "lending_co_data_numeric_1 = np.loadtxt(\".\\Data\\Lending-Company-Numeric-Data-NAN.csv\",delimiter = ';',dtype = str)\n",
    "print((lending_co_data_numeric_1[:,:1]))\n",
    "\n",
    "\n",
    "print(type(lending_co_data_numeric_1))\n",
    "print(lending_co_data_numeric_1.shape)\n",
    "lending_co_data_numeric_1\n",
    "# Observe '' in the 3rd last row, that represents a Not a Number value or NaN and is stored as empty string."
   ]
  },
  {
   "cell_type": "code",
   "execution_count": 23,
   "metadata": {},
   "outputs": [
    {
     "name": "stdout",
     "output_type": "stream",
     "text": [
      "(1043, 6)\n"
     ]
    },
    {
     "data": {
      "text/plain": [
       "array([[ 2000.,    40.,   365.,  3121.,  4241., 13621.],\n",
       "       [ 2000.,    40.,   365.,  3061.,  4171., 15041.],\n",
       "       [ 1000.,    40.,   365.,  2160.,  3280., 15340.],\n",
       "       ...,\n",
       "       [   nan,    40.,   365.,  4201.,  5001., 16600.],\n",
       "       [ 1000.,    40.,   365.,  2080.,  3320., 15600.],\n",
       "       [ 2000.,    40.,   365.,  4601.,  4601., 16600.]])"
      ]
     },
     "execution_count": 23,
     "metadata": {},
     "output_type": "execute_result"
    }
   ],
   "source": [
    "# Handling NaN values with np.genfromtxt, is done automatically and we see a NaN value instead of an error.\n",
    "lending_co_data_numeric_2 = np.genfromtxt(\".\\Data\\Lending-Company-Numeric-Data-NAN.csv\",delimiter = ';')\n",
    "type(lending_co_data_numeric_2)\n",
    "print(lending_co_data_numeric_2.shape)\n",
    "lending_co_data_numeric_2\n",
    "# Observe '' in the 3rd last row, that represents a Not a Number value or NaN and is stored as empty string."
   ]
  },
  {
   "cell_type": "code",
   "execution_count": 24,
   "metadata": {},
   "outputs": [],
   "source": [
    "# So for summary use the loadfromtext value with dtype as str to only view the data and use genfromtext to load \n",
    "# the values for mathematical computations."
   ]
  },
  {
   "cell_type": "markdown",
   "metadata": {},
   "source": [
    "### Partial Cleaning While Importing\n",
    "- In partial cleaning we try to omit some parts of the data as per our need and \n",
    "- **Remember this is done while importing not after importing.**\n",
    "- This is done when we are totally aware of our data and want to use only certain parts of the data.\n",
    "- For this we use skip_header,skip_footer, usecols arguments in the method of loading the data.\n",
    "- **Most important part is we can unpack each columns to separate variables individually.**"
   ]
  },
  {
   "cell_type": "code",
   "execution_count": 72,
   "metadata": {},
   "outputs": [
    {
     "name": "stdout",
     "output_type": "stream",
     "text": [
      "[40. 40. 40. ... 40. 40. 40.]\n",
      "[365. 365. 365. ... 365. 365. 365.]\n",
      "[13621. 15041. 15340. ... 16600. 15600. 16600.]\n"
     ]
    }
   ],
   "source": [
    "d_1,d_2,d_3 = np.genfromtxt('./Data/Lending-Company-Numeric-Data-NAN.csv',\n",
    "                            delimiter = ';',\n",
    "                            unpack = True,\n",
    "                           usecols = (1,2,5))\n",
    "print(d_1)\n",
    "print(d_2)\n",
    "print(d_3)"
   ]
  },
  {
   "cell_type": "code",
   "execution_count": 36,
   "metadata": {},
   "outputs": [
    {
     "data": {
      "text/plain": [
       "array([[ 2000.,    40.,   365.,  3121.,  4241., 13621.],\n",
       "       [ 2000.,    40.,   365.,  3061.,  4171., 15041.],\n",
       "       [ 1000.,    40.,   365.,  2160.,  3280., 15340.],\n",
       "       ...,\n",
       "       [   nan,    40.,   365.,  4201.,  5001., 16600.],\n",
       "       [ 1000.,    40.,   365.,  2080.,  3320., 15600.],\n",
       "       [ 2000.,    40.,   365.,  4601.,  4601., 16600.]])"
      ]
     },
     "execution_count": 36,
     "metadata": {},
     "output_type": "execute_result"
    }
   ],
   "source": [
    "lending_co_data_numeric_NaN = np.genfromtxt('./Data/Lending-Company-Numeric-Data-NAN.csv',delimiter = ';')\n",
    "lending_co_data_numeric_NaN"
   ]
  },
  {
   "cell_type": "code",
   "execution_count": 37,
   "metadata": {},
   "outputs": [
    {
     "data": {
      "text/plain": [
       "array([[ 2000.,    40.,   365.,  3121.,  4241., 13621.],\n",
       "       [ 2000.,    40.,   365.,  3061.,  4171., 15041.],\n",
       "       [ 1000.,    40.,   365.,  2160.,  3280., 15340.],\n",
       "       ...,\n",
       "       [   nan,    40.,   365.,  4201.,  5001., 16600.],\n",
       "       [ 1000.,    40.,   365.,  2080.,  3320., 15600.],\n",
       "       [ 2000.,    40.,   365.,  4601.,  4601., 16600.]])"
      ]
     },
     "execution_count": 37,
     "metadata": {},
     "output_type": "execute_result"
    }
   ],
   "source": [
    "lending_co_data_numeric_NaN"
   ]
  },
  {
   "cell_type": "code",
   "execution_count": 41,
   "metadata": {},
   "outputs": [
    {
     "data": {
      "text/plain": [
       "array([[ 1000.,    40.,   365.,  2160.,  3280., 15340.],\n",
       "       [ 2000.,    40.,   365.,  3041.,  4241., 15321.],\n",
       "       [ 2000.,    50.,   365.,  3470.,  4820., 13720.],\n",
       "       ...,\n",
       "       [   nan,    40.,   365.,  4201.,  5001., 16600.],\n",
       "       [ 1000.,    40.,   365.,  2080.,  3320., 15600.],\n",
       "       [ 2000.,    40.,   365.,  4601.,  4601., 16600.]])"
      ]
     },
     "execution_count": 41,
     "metadata": {},
     "output_type": "execute_result"
    }
   ],
   "source": [
    "# Skipping 2 rows from the top while importing the data.\n",
    "lending_co_data_numeric_NaN = np.genfromtxt('./Data/Lending-Company-Numeric-Data-NAN.csv',\n",
    "                                            delimiter = ';',\n",
    "                                            skip_header = 2)\n",
    "lending_co_data_numeric_NaN"
   ]
  },
  {
   "cell_type": "code",
   "execution_count": 42,
   "metadata": {},
   "outputs": [
    {
     "data": {
      "text/plain": [
       "array([[ 2000.,    40.,   365.,  3121.,  4241., 13621.],\n",
       "       [ 2000.,    40.,   365.,  3061.,  4171., 15041.],\n",
       "       [ 1000.,    40.,   365.,  2160.,  3280., 15340.],\n",
       "       ...,\n",
       "       [ 2000.,    40.,   365.,  3401.,    nan, 16600.],\n",
       "       [ 2000.,    40.,   365.,    nan,  5440., 16600.],\n",
       "       [   nan,    40.,   365.,  4201.,  5001., 16600.]])"
      ]
     },
     "execution_count": 42,
     "metadata": {},
     "output_type": "execute_result"
    }
   ],
   "source": [
    "# Skipping 2 rows from the bottom while importing the data.\n",
    "lending_co_data_numeric_NaN = np.genfromtxt('./Data/Lending-Company-Numeric-Data-NAN.csv',\n",
    "                                            delimiter = ';',\n",
    "                                            skip_footer = 2)\n",
    "lending_co_data_numeric_NaN"
   ]
  },
  {
   "cell_type": "code",
   "execution_count": 48,
   "metadata": {},
   "outputs": [
    {
     "data": {
      "text/plain": [
       "array([4241., 4171., 3280., ..., 5001., 3320., 4601.])"
      ]
     },
     "execution_count": 48,
     "metadata": {},
     "output_type": "execute_result"
    }
   ],
   "source": [
    "# Using the only columns which are specified in form of tuple as an argument.\n",
    "lending_co_data_numeric_NaN = np.genfromtxt('./Data/Lending-Company-Numeric-Data-NAN.csv'\n",
    "                                            ,delimiter = ';',\n",
    "                                            usecols = 4) # Here we are using the 5th column cause of 0-indexing in python.\n",
    "lending_co_data_numeric_NaN"
   ]
  },
  {
   "cell_type": "code",
   "execution_count": 52,
   "metadata": {},
   "outputs": [
    {
     "data": {
      "text/plain": [
       "array([[4241., 2000.,   40.],\n",
       "       [4171., 2000.,   40.],\n",
       "       [3280., 1000.,   40.],\n",
       "       ...,\n",
       "       [5001.,   nan,   40.],\n",
       "       [3320., 1000.,   40.],\n",
       "       [4601., 2000.,   40.]])"
      ]
     },
     "execution_count": 52,
     "metadata": {},
     "output_type": "execute_result"
    }
   ],
   "source": [
    "# Using the only columns which are specified in form of tuple as an argument.\n",
    "# Also remember the order stays preserved while importing\n",
    "lending_co_data_numeric_NaN = np.genfromtxt('./Data/Lending-Company-Numeric-Data-NAN.csv'\n",
    "                                            ,delimiter = ';',\n",
    "                                            usecols = (4,0,1)) # Here we are using the 5th column cause of 0-indexing in python.\n",
    "lending_co_data_numeric_NaN"
   ]
  },
  {
   "cell_type": "markdown",
   "metadata": {
    "scrolled": true
   },
   "source": [
    "### String vs Object vs Numbers\n",
    "- We can import the data on the files in different data forms with the dtype argument.\n",
    "- This totally depends on the need of the user."
   ]
  },
  {
   "cell_type": "code",
   "execution_count": 54,
   "metadata": {},
   "outputs": [
    {
     "data": {
      "text/plain": [
       "array([[      nan,       nan,       nan, ...,       nan,       nan,\n",
       "              nan],\n",
       "       [1.000e+00,       nan,       nan, ...,       nan,       nan,\n",
       "        1.660e+04],\n",
       "       [2.000e+00,       nan,       nan, ...,       nan,       nan,\n",
       "        1.660e+04],\n",
       "       ...,\n",
       "       [1.041e+03,       nan,       nan, ...,       nan,       nan,\n",
       "        1.660e+04],\n",
       "       [1.042e+03,       nan,       nan, ...,       nan,       nan,\n",
       "        1.560e+04],\n",
       "       [1.043e+03,       nan,       nan, ...,       nan,       nan,\n",
       "        1.660e+04]])"
      ]
     },
     "execution_count": 54,
     "metadata": {},
     "output_type": "execute_result"
    }
   ],
   "source": [
    "lending_co_LT = np.genfromtxt('./Data/lending-co-LT.csv',delimiter = ',')\n",
    "lending_co_LT"
   ]
  },
  {
   "cell_type": "code",
   "execution_count": 60,
   "metadata": {},
   "outputs": [
    {
     "name": "stdout",
     "output_type": "stream",
     "text": [
      "[[   -1    -1    -1 ...    -1    -1    -1]\n",
      " [    1    -1    -1 ...    -1    -1 16600]\n",
      " [    2    -1    -1 ...    -1    -1 16600]\n",
      " ...\n",
      " [ 1041    -1    -1 ...    -1    -1 16600]\n",
      " [ 1042    -1    -1 ...    -1    -1 15600]\n",
      " [ 1043    -1    -1 ...    -1    -1 16600]]\n",
      "\n",
      "-2\n"
     ]
    }
   ],
   "source": [
    "# To avoid the scientific values we can import the data in form of integers.\n",
    "# But remember that with this the mathematical computations become possible and thus we can end up adding the \n",
    "# NaN values which are -1 and make no sense on addition.\n",
    "lending_co_LT = np.genfromtxt('./Data/lending-co-LT.csv',delimiter = ',',dtype = int)\n",
    "print(lending_co_LT)\n",
    "print()\n",
    "print(lending_co_LT[0,0]+lending_co_LT[0,1]) # Not sensible operation."
   ]
  },
  {
   "cell_type": "code",
   "execution_count": 61,
   "metadata": {},
   "outputs": [
    {
     "name": "stdout",
     "output_type": "stream",
     "text": [
      "[['LoanID' 'StringID' 'Product' ... 'Location' 'Region' 'TotalPrice']\n",
      " ['1' 'id_1' 'Product B' ... 'Location 2' 'Region 2' '16600.0']\n",
      " ['2' 'id_2' 'Product B' ... 'Location 3' '' '16600.0']\n",
      " ...\n",
      " ['1041' 'id_1041' 'Product B' ... 'Location 23' 'Region 4' '16600.0']\n",
      " ['1042' 'id_1042' 'Product C' ... 'Location 52' 'Region 6' '15600.0']\n",
      " ['1043' 'id_1043' 'Product B' ... 'Location 142' 'Region 6' '16600.0']]\n"
     ]
    }
   ],
   "source": [
    "# We can also get the output in form of strings.\n",
    "lending_co_LT = np.genfromtxt('./Data/lending-co-LT.csv',delimiter = ',',dtype = str)\n",
    "print(lending_co_LT)"
   ]
  },
  {
   "cell_type": "code",
   "execution_count": 80,
   "metadata": {},
   "outputs": [
    {
     "name": "stdout",
     "output_type": "stream",
     "text": [
      "[(-1, '', nan) (-1, '', nan) (-1, '', nan) ... (-1, '', nan) (-1, '', nan)\n",
      " (-1, '', nan)]\n"
     ]
    }
   ],
   "source": [
    "# We can specify a different dtype for every column or field.\n",
    "lending_co_LT = np.genfromtxt('./Data/lending-co-LT.csv',\n",
    "                              delimiter = ',',\n",
    "                              usecols = (5,0,1),\n",
    "                              dtype = [np.int32,str,np.float64])\n",
    "print(lending_co_LT)"
   ]
  },
  {
   "cell_type": "code",
   "execution_count": 82,
   "metadata": {},
   "outputs": [
    {
     "name": "stdout",
     "output_type": "stream",
     "text": [
      "[[b'LoanID' b'StringID' b'Product' ... b'Location' b'Region'\n",
      "  b'TotalPrice']\n",
      " [b'1' b'id_1' b'Product B' ... b'Location 2' b'Region 2' b'16600.0']\n",
      " [b'2' b'id_2' b'Product B' ... b'Location 3' b'' b'16600.0']\n",
      " ...\n",
      " [b'1041' b'id_1041' b'Product B' ... b'Location 23' b'Region 4'\n",
      "  b'16600.0']\n",
      " [b'1042' b'id_1042' b'Product C' ... b'Location 52' b'Region 6'\n",
      "  b'15600.0']\n",
      " [b'1043' b'id_1043' b'Product B' ... b'Location 142' b'Region 6'\n",
      "  b'16600.0']]\n"
     ]
    }
   ],
   "source": [
    "# We can also get the output in form of objects.\n",
    "lending_co_LT = np.genfromtxt('./Data/lending-co-LT.csv',delimiter = ',',dtype = object)\n",
    "print(lending_co_LT)\n",
    "#b represents that its of the object type."
   ]
  }
 ],
 "metadata": {
  "kernelspec": {
   "display_name": "Python 3",
   "language": "python",
   "name": "python3"
  },
  "language_info": {
   "codemirror_mode": {
    "name": "ipython",
    "version": 3
   },
   "file_extension": ".py",
   "mimetype": "text/x-python",
   "name": "python",
   "nbconvert_exporter": "python",
   "pygments_lexer": "ipython3",
   "version": "3.8.11"
  }
 },
 "nbformat": 4,
 "nbformat_minor": 2
}
